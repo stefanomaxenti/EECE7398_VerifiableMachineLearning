{
  "nbformat": 4,
  "nbformat_minor": 0,
  "metadata": {
    "colab": {
      "provenance": []
    },
    "kernelspec": {
      "name": "python3",
      "display_name": "Python 3"
    },
    "language_info": {
      "name": "python"
    }
  },
  "cells": [
    {
      "cell_type": "markdown",
      "source": [
        "_Stefano Maxenti - maxenti.s@northeastern.edu_"
      ],
      "metadata": {
        "id": "1Fc64uHn457x"
      }
    },
    {
      "cell_type": "markdown",
      "source": [
        "# EECE 7398: Verifiable Machine Learning -- Fall 2023\n",
        "# HW#2: Formal Verification\n",
        "\n",
        "**Submission Instructions:** Please upload a .ipynb file (including your code, plots, and written answers) to Gradescope. This file can be updated unlimited times until the submission deadline.\n",
        "\n",
        "The goal of this assignment is to give you hands-on experience with formal verification of neural networks. You will code some verification algorithms from scratch in the first few problems to build an understanding of how these concepts from class actually play out in code. Then, you will get to use some libraries to gain familiarity with state-of-the-art software in this research field.\n",
        "\n",
        "You're welcome to use PyTorch, TensorFlow, Keras, or other appropriate libraries to help make your life easier throughout the problems - we tried to make the function signatures somewhat framework-agnostic."
      ],
      "metadata": {
        "id": "d8n5f4t_BW7c"
      }
    },
    {
      "cell_type": "markdown",
      "source": [
        "For this assignment, we'll use the [NNet](https://github.com/sisl/nnet) format as a language/framework-agnostic description of a ReLU network and its parameters. Here are some possibly useful functions that convert between nnet, numpy arrays, and pytorch models (feel free to use these or not)."
      ],
      "metadata": {
        "id": "7GCrrocr3-SB"
      }
    },
    {
      "cell_type": "code",
      "source": [
        "import torch\n",
        "import numpy as np\n",
        "import cvxpy as cp\n",
        "from enum import Enum\n",
        "import matplotlib.pyplot as plt"
      ],
      "metadata": {
        "id": "1PkaMYBAIQXm"
      },
      "execution_count": 1,
      "outputs": []
    },
    {
      "cell_type": "code",
      "source": [
        "def nnet_to_weights_and_biases(nnet_filename: str) -> tuple[np.ndarray, np.ndarray]:\n",
        "  # load a nnet text file and extract the weights and biases\n",
        "\n",
        "  # converted this code from: https://github.com/sisl/NeuralVerification.jl/blob/957cb32081f37de57d84d7f0813f708288b56271/src/utils/util.jl#L10\n",
        "  with open(nnet_filename, 'r') as f:\n",
        "    line = f.readline()\n",
        "    while \"//\" in line: #skip comments\n",
        "      line = f.readline()\n",
        "    # number of layers\n",
        "    nlayers = int(line.strip().split(\",\")[0])\n",
        "    # read in layer sizes\n",
        "    layer_sizes = [int(x) for x in f.readline().split(\",\")[1:nlayers+1]]\n",
        "    # read past additonal information\n",
        "    for i in range(1, 6):\n",
        "      line = f.readline()\n",
        "    # i=1 corresponds to the input dimension, so it's ignored\n",
        "    Ws = []\n",
        "    bs = []\n",
        "    for dim in layer_sizes:\n",
        "      W = np.vstack([[float(x) for x in f.readline().rstrip(',\\n ').split(\",\")] for i in range(dim)])\n",
        "      b = np.array([float(f.readline().rstrip(',\\n ')) for _ in range(dim)])\n",
        "      Ws.append(W)\n",
        "      bs.append(b)\n",
        "\n",
        "  return Ws, bs\n",
        "\n",
        "def weights_and_biases_to_pytorch(Ws: list[np.ndarray], bs: list[np.ndarray]) -> torch.nn.Sequential:\n",
        "  # given weights and biases, create a torch.nn.Sequential model with relus\n",
        "  # btwn each linear layer (except no activation on final layer)\n",
        "\n",
        "  num_layers = len(Ws)\n",
        "\n",
        "  layers = []\n",
        "  for W, b in zip(Ws, bs):\n",
        "    out_features, in_features = W.shape\n",
        "    layer = torch.nn.Linear(in_features, out_features)\n",
        "    layer.weight = torch.nn.Parameter(torch.Tensor(W))\n",
        "    layer.bias = torch.nn.Parameter(torch.Tensor(b))\n",
        "    layers.append(layer)\n",
        "    layers.append(torch.nn.ReLU())\n",
        "\n",
        "  # don't add ReLU to end of NN\n",
        "  model = torch.nn.Sequential(*layers[:-1])\n",
        "  return model\n",
        "\n",
        "def nnet_to_pytorch(nnet_filename: str) -> torch.nn.Sequential:\n",
        "  # directly convert from nnet text file to pytorch model\n",
        "  Ws, bs = nnet_to_weights_and_biases(nnet_filename)\n",
        "  model = weights_and_biases_to_pytorch(Ws, bs)\n",
        "  return model\n",
        "\n",
        "def model_to_weights_and_biases(model: torch.nn.Sequential) -> tuple[np.ndarray, np.ndarray]:\n",
        "  # extract the weights and biases as numpy arrays from a torch.nn.Sequential model\n",
        "  Ws = []\n",
        "  bs = []\n",
        "  for idx, m in enumerate(model.modules()):\n",
        "    if isinstance(m, torch.nn.Sequential):\n",
        "      continue\n",
        "    elif isinstance(m, torch.nn.ReLU):\n",
        "      continue\n",
        "    elif isinstance(m, torch.nn.Linear):\n",
        "      Ws.append(m.weight.data.numpy())\n",
        "      bs.append(m.bias.data.numpy())\n",
        "    else:\n",
        "      print(\"That layer isn't supported.\")\n",
        "      assert 0\n",
        "  return Ws, bs"
      ],
      "metadata": {
        "id": "aq31nltZE4it"
      },
      "execution_count": 2,
      "outputs": []
    },
    {
      "cell_type": "code",
      "source": [
        "def nominal_and_epsilon_to_range(nominal: np.ndarray, epsilon: np.ndarray | float) -> np.ndarray:\n",
        "  return np.vstack([nominal-epsilon, nominal+epsilon]).T\n",
        "\n",
        "def range_to_nominal_and_epsilon(input_range: np.ndarray) -> tuple[np.ndarray, np.ndarray]:\n",
        "  nominal_input = (input_range[:, 1] + input_range[:, 0]) / 2.\n",
        "  epsilon = (input_range[:, 1] - input_range[:, 0]) / 2.\n",
        "  return nominal_input, epsilon"
      ],
      "metadata": {
        "id": "-k9pOOVv6CU0"
      },
      "execution_count": 3,
      "outputs": []
    },
    {
      "cell_type": "markdown",
      "source": [
        "For example, to load a NN controller for a cartpole system, then query the controller for its action at a particular state:"
      ],
      "metadata": {
        "id": "wBUJmk-s5Qd2"
      }
    },
    {
      "cell_type": "code",
      "source": [
        "print(\"Cartpole Controller\")\n",
        "\n",
        "# Load the NNet file and pass a nominal input to get the class logits\n",
        "nnet_filename = \"cartpole_nnet.nnet\"\n",
        "nominal_input = torch.Tensor([[0., 0.1, 0.2, 0.3]]) # these 4 values correspond to the 4 states in cartpole\n",
        "model = nnet_to_pytorch(nnet_filename)\n",
        "Ws, bs = model_to_weights_and_biases(model)\n",
        "nominal_output = model(nominal_input)\n",
        "print(f\"{nominal_output=}\")\n",
        "\n",
        "# Also set up an example set of possible inputs to this NN\n",
        "epsilon = 0.1 # epsilon can be a scalar or a vec w/ same shape as nominal_input\n",
        "input_range = nominal_and_epsilon_to_range(nominal_input, epsilon)\n",
        "print(f\"{input_range=}\")"
      ],
      "metadata": {
        "id": "uSVI1MUj5Pk2",
        "colab": {
          "base_uri": "https://localhost:8080/"
        },
        "outputId": "1a4689e6-f6cc-45a7-e719-01135b4fc42f"
      },
      "execution_count": 4,
      "outputs": [
        {
          "output_type": "stream",
          "name": "stdout",
          "text": [
            "Cartpole Controller\n",
            "nominal_output=tensor([[12.9007, -1.4208]], grad_fn=<AddmmBackward0>)\n",
            "input_range=array([[-0.1       ,  0.1       ],\n",
            "       [ 0.        ,  0.2       ],\n",
            "       [ 0.1       ,  0.3       ],\n",
            "       [ 0.20000002,  0.4       ]], dtype=float32)\n"
          ]
        }
      ]
    },
    {
      "cell_type": "markdown",
      "source": [
        "Let's start by viewing the structure of the cartpole model using Pythorch."
      ],
      "metadata": {
        "id": "UIumImkunNH1"
      }
    },
    {
      "cell_type": "code",
      "source": [
        "print(model)"
      ],
      "metadata": {
        "colab": {
          "base_uri": "https://localhost:8080/"
        },
        "id": "2-YpF6Y3nMJm",
        "outputId": "d3e8d790-a899-4a4d-b3a1-e37c7ebb7097"
      },
      "execution_count": 5,
      "outputs": [
        {
          "output_type": "stream",
          "name": "stdout",
          "text": [
            "Sequential(\n",
            "  (0): Linear(in_features=4, out_features=16, bias=True)\n",
            "  (1): ReLU()\n",
            "  (2): Linear(in_features=16, out_features=16, bias=True)\n",
            "  (3): ReLU()\n",
            "  (4): Linear(in_features=16, out_features=16, bias=True)\n",
            "  (5): ReLU()\n",
            "  (6): Linear(in_features=16, out_features=2, bias=True)\n",
            ")\n"
          ]
        }
      ]
    },
    {
      "cell_type": "markdown",
      "source": [
        "# Problem 1: Sampling-Based Under-Approximations [DONE]"
      ],
      "metadata": {
        "id": "KzPeANq0V5UW"
      }
    },
    {
      "cell_type": "markdown",
      "source": [
        "One way to approximate the set of possible NN outputs for a given set of possible NN inputs is by exhaustively sampling. Here, you will implement a simple sampling-based method for estimating the min and max values for each dimension of the NN output. This sampling-based strategy provides an under-approximation of the output set (and the corresponding rectangular bound is an under-approximation of the axis-aligned bounding box around the true output set).\n",
        "\n",
        "The cartpole NN only has 4 inputs and 2 outputs, so you can visualize its output samples easily.\n",
        "\n",
        "**Deliverables**:\n",
        "\n",
        "- Implement the `output_range_sampling` function\n",
        "- For the cartpole NN, plot your output samples and the corresponding rectangular bounds for a few different values of `num_samples`\n"
      ],
      "metadata": {
        "id": "a2nSdrKB2OOJ"
      }
    },
    {
      "cell_type": "code",
      "source": [
        "def output_range_sampling(nnet_filename: str, input_range: np.ndarray, num_samples: int) -> np.ndarray:\n",
        "\n",
        "  # Getting weights and biases\n",
        "  Ws, bs = nnet_to_weights_and_biases(nnet_filename)\n",
        "  m = weights_and_biases_to_pytorch(Ws, bs)\n",
        "  Ws, bs = model_to_weights_and_biases(m)\n",
        "  model = nnet_to_pytorch(nnet_filename)\n",
        "\n",
        "  output_per_sample = []\n",
        "  last_layer = []\n",
        "  for i in range(num_samples):\n",
        "    l = []\n",
        "\n",
        "    # creating the 4 random inputs in the range\n",
        "    for _ in range(0,input_range.shape[0]):\n",
        "      l.append(np.random.uniform(input_range[_, :].min(),input_range[_, :].max()))\n",
        "\n",
        "    input_sample = np.array(l)\n",
        "    output_per_layer = []\n",
        "    weight_index = 0\n",
        "\n",
        "    for i in range(0, len(model)):\n",
        "\n",
        "      if isinstance(model[i], torch.nn.Linear):\n",
        "        output = np.dot(Ws[weight_index], input_sample)+bs[weight_index]\n",
        "        weight_index+=1\n",
        "      elif isinstance(model[i], torch.nn.ReLU):\n",
        "        output = np.clip(input_sample, a_min=0, a_max=None)\n",
        "      if i == len(model)-1:\n",
        "        last_layer.append(output)\n",
        "\n",
        "      input_sample = output\n",
        "      output_per_layer.append(output)\n",
        "\n",
        "    output_per_sample.append(output_per_layer)\n",
        "\n",
        "\n",
        "  return output_per_sample, last_layer"
      ],
      "metadata": {
        "id": "LCmrgL-cV_C9"
      },
      "execution_count": 6,
      "outputs": []
    },
    {
      "cell_type": "code",
      "source": [
        "def plot_random_sample(last_layer, lw=5, with_value=True):\n",
        "  # Plotting the rectangular bounds\n",
        "  # Initialize variables to store the bounds\n",
        "  x_min = float('inf')\n",
        "  x_max = float('-inf')\n",
        "  y_min = float('inf')\n",
        "  y_max = float('-inf')\n",
        "  # Iterate through the points and update the bounds\n",
        "  for x, y in last_layer:\n",
        "      x_min = min(x_min, x)\n",
        "      x_max = max(x_max, x)\n",
        "      y_min = min(y_min, y)\n",
        "      y_max = max(y_max, y)\n",
        "\n",
        "  x = [x_min, x_min, x_max, x_max, x_min]\n",
        "  y = [y_min, y_max, y_max, y_min, y_min]\n",
        "  plt.plot(x,y,marker='o', lw=lw, label=\"Sampling\")\n",
        "  if with_value:\n",
        "    for l in last_layer:\n",
        "      plt.plot(l[0], l[1], 'b.')"
      ],
      "metadata": {
        "id": "7OHaGTiSmUZ9"
      },
      "execution_count": 7,
      "outputs": []
    },
    {
      "cell_type": "code",
      "source": [
        "for num_samples in [1e2, 1e3, 1e4]:\n",
        "  complete_output, last_layer = output_range_sampling(nnet_filename, input_range, int(num_samples))\n",
        "  plot_random_sample(last_layer)\n",
        "  plt.grid()\n",
        "  plt.title('Random sampling')\n",
        "  plt.xlabel('Output 1')\n",
        "  plt.ylabel('Output 2')\n",
        "  title = str(int(num_samples))+\" sample points\"\n",
        "  plt.title(title)\n",
        "  plt.show()"
      ],
      "metadata": {
        "colab": {
          "base_uri": "https://localhost:8080/",
          "height": 1000
        },
        "id": "huulzBwDmFSy",
        "outputId": "bce73c8a-5a00-46c5-f4ae-59b19c45c3ed"
      },
      "execution_count": 8,
      "outputs": [
        {
          "output_type": "display_data",
          "data": {
            "text/plain": [
              "<Figure size 640x480 with 1 Axes>"
            ],
            "image/png": "[encoded data removed]"
          },
          "metadata": {}
        },
        {
          "output_type": "display_data",
          "data": {
            "text/plain": [
              "<Figure size 640x480 with 1 Axes>"
            ],
            "image/png": "[encoded data removed]"
          },
          "metadata": {}
        },
        {
          "output_type": "display_data",
          "data": {
            "text/plain": [
              "<Figure size 640x480 with 1 Axes>"
            ],
            "image/png": "[encoded data removed]"
          },
          "metadata": {}
        }
      ]
    },
    {
      "cell_type": "code",
      "source": [
        "random_sample_final_result = last_layer"
      ],
      "metadata": {
        "id": "BirTHOaDnlKg"
      },
      "execution_count": 9,
      "outputs": []
    },
    {
      "cell_type": "markdown",
      "source": [
        "# Problem 2: Interval Bound Propagation (IBP) [DONE]"
      ],
      "metadata": {
        "id": "wMbeEqg6BlMk"
      }
    },
    {
      "cell_type": "markdown",
      "source": [
        "Now, you will implement the IBP algorithm to get *outer* bounds on the output set -- which are much more useful for proving that the NN will not produce undesired outputs. You may want to read [the IBP paper](https://arxiv.org/pdf/1810.12715.pdf) (especially around Eqn 6) to help with this.\n",
        "\n",
        "**Deliverables:**\n",
        "\n",
        "- Implement the `verify_ibp` function\n",
        "- Print the `output_range` from your IBP implementation\n",
        "- Plot your IBP rectangular bounds along with the samples from above to see how ridiculously loose IBP bounds can be"
      ],
      "metadata": {
        "id": "lTuoeXsjAURM"
      }
    },
    {
      "cell_type": "markdown",
      "source": [
        "I implement the IBP algorithm following eq. 6 and eq. 7 from the paper."
      ],
      "metadata": {
        "id": "aLlzR8_9VDvJ"
      }
    },
    {
      "cell_type": "code",
      "source": [
        "def verify_ibp(nnet_filename: str, input_range: np.ndarray) -> np.ndarray:\n",
        "\n",
        "  # Getting weights and biases\n",
        "  Ws, bs = nnet_to_weights_and_biases(nnet_filename)\n",
        "  m = weights_and_biases_to_pytorch(Ws, bs)\n",
        "  Ws, bs = model_to_weights_and_biases(m)\n",
        "  model = nnet_to_pytorch(nnet_filename)\n",
        "\n",
        "  # Creating the empty lists for the IBP formulation\n",
        "  u = []\n",
        "  r = []\n",
        "  z_up =[]\n",
        "  z_dw = []\n",
        "\n",
        "  # Initialization: z0 = x0 +- epsilon\n",
        "  z_dw.append(input_range[:,0])\n",
        "  z_up.append(input_range[:,1])\n",
        "\n",
        "  # Ws has shape 4, the length of the model is 7 (Linear+ReLUs),\n",
        "  # weight_index is used in the affine linear layer for weights and biases.\n",
        "  weight_index = 0\n",
        "  list_results = []\n",
        "  for i in range(0, len(model)):\n",
        "    # Affine linear layer\n",
        "    if isinstance(model[i], torch.nn.Linear):\n",
        "      # calculating {u,r}_(k-1)\n",
        "      u.append((z_up[-1]+z_dw[-1])/2)\n",
        "      r.append((z_up[-1]-z_dw[-1])/2)\n",
        "      # calculating {u,r}_k\n",
        "      u.append(np.dot(Ws[weight_index], u[-1])+bs[weight_index])\n",
        "      r.append(np.dot(np.absolute(Ws[weight_index]), r[-1]))\n",
        "      # calculating {z_dw, z_up}_k\n",
        "      z_dw.append(u[-1]-r[-1])\n",
        "      z_up.append(u[-1]+r[-1])\n",
        "      # increasing the index for the future linear layer\n",
        "      weight_index += 1\n",
        "\n",
        "    # ReLU activation: in this case, I don't need to use eq.6 but eq.7\n",
        "    # therefore just the activation\n",
        "    elif isinstance(model[i], torch.nn.ReLU):\n",
        "      # ReLU(x) = {x if x > 0, 0 otherwise}\n",
        "      z_dw.append(np.clip(z_dw[-1], a_min=0, a_max=None))\n",
        "      z_up.append(np.clip(z_up[-1], a_min=0, a_max=None))\n",
        "\n",
        "    # Results need to be reshaped\n",
        "    result = np.vstack((z_dw[-1], z_up[-1])).T\n",
        "    list_results.append(result)\n",
        "\n",
        "  return list_results, result"
      ],
      "metadata": {
        "id": "_8QopFznnhZF"
      },
      "execution_count": 10,
      "outputs": []
    },
    {
      "cell_type": "code",
      "source": [
        "list_results, output_range_ibp = verify_ibp(nnet_filename, input_range)\n",
        "print(f\"output bounds via IBP (custom): \\n{output_range_ibp}\")"
      ],
      "metadata": {
        "colab": {
          "base_uri": "https://localhost:8080/"
        },
        "id": "GkP3KwXz19_m",
        "outputId": "1c38421f-6538-4634-b302-4546d1459655"
      },
      "execution_count": 11,
      "outputs": [
        {
          "output_type": "stream",
          "name": "stdout",
          "text": [
            "output bounds via IBP (custom): \n",
            "[[-25.6073    52.51912 ]\n",
            " [-32.457947  23.750446]]\n"
          ]
        }
      ]
    },
    {
      "cell_type": "code",
      "source": [
        "def plot_rectangle(bounds, alg, lw=5):\n",
        "  min_output1 = min(bounds[0])\n",
        "  max_output1 = max(bounds[0])\n",
        "  min_output2 = min(bounds[1])\n",
        "  max_output2 = max(bounds[1])\n",
        "  x = [min_output1, min_output1, max_output1, max_output1, min_output1]\n",
        "  y = [min_output2, max_output2, max_output2, min_output2, min_output2]\n",
        "  plt.plot(x,y,marker='o', lw=lw, label=alg)\n",
        "\n",
        "def plot_pretty_graph(title):\n",
        "  plt.legend()\n",
        "  plt.grid()\n",
        "  plt.xlabel('Output 1')\n",
        "  plt.ylabel('Output 2')\n",
        "  plt.title(title)\n",
        "  plt.show()"
      ],
      "metadata": {
        "id": "6WKG0X03qkkp"
      },
      "execution_count": 12,
      "outputs": []
    },
    {
      "cell_type": "code",
      "source": [
        "plot_random_sample(random_sample_final_result, with_value=False, lw=2)\n",
        "plot_rectangle(output_range_ibp, alg=\"IBP\", lw=2)\n",
        "plot_pretty_graph(\"Bounds\")"
      ],
      "metadata": {
        "id": "kqot5Rb1CX4r",
        "colab": {
          "base_uri": "https://localhost:8080/",
          "height": 472
        },
        "outputId": "f3f1c188-cfd2-4088-a54a-bcf7ff066190"
      },
      "execution_count": 13,
      "outputs": [
        {
          "output_type": "display_data",
          "data": {
            "text/plain": [
              "<Figure size 640x480 with 1 Axes>"
            ],
            "image/png": "[encoded data removed]"
          },
          "metadata": {}
        }
      ]
    },
    {
      "cell_type": "markdown",
      "source": [
        "IBP is definitely looser than sampling..."
      ],
      "metadata": {
        "id": "mvlnomrNFMtx"
      }
    },
    {
      "cell_type": "markdown",
      "source": [
        "# Problem 3: Linear Program (LP) [DONE]"
      ],
      "metadata": {
        "id": "1lNkJ9q7FN02"
      }
    },
    {
      "cell_type": "markdown",
      "source": [
        "Since IBP's bounds are usually too loose to say something useful about the NN's output set, you will now implement an LP-based verification algorithm that should provide much tighter bounds while remaining computationally reasonable.\n",
        "\n",
        "You will set up an LP (e.g., using `cvxpy` to set up variables, constraints, and objectives corresponding to the NN verification problem) for each side of the rectangle (i.e., min & max per output dimension, which can be done by simply changing the objective). To turn the ReLU constraints into linear equality/inequality constraints, you can check which neurons are \"active\", \"inactive\", or \"uncertain\" and add the corresponding relaxed constraints. To know which neurons belong to which category, you will need to acquire intermediate bounds -- there are lots of ways to do this!"
      ],
      "metadata": {
        "id": "VMPPb9KjAZfu"
      }
    },
    {
      "cell_type": "markdown",
      "source": [
        "**Planet (triangle) relaxation**\n",
        "\n",
        "I start by implementing the relaxation introduced by Rüdiger Ehlers in \"Formal Verification of Piece-Wise Linear Feed-Forward Neural Networks\".\n",
        "\n",
        "The uncertain ReLU neuron is codified as follows:\n",
        "\n",
        "$$d ≥ 0$$\n",
        "$$d ≥ c$$\n",
        "$$d ≤ \\frac{u(c-l)}{u-l}$$\n",
        "\n",
        "where, in our case, c is the output of the previous linear layer (c = Wx+b) and d is the output of the ReLU.\n",
        "\n",
        "Verification of the accuracy of this function with a real library is performed later in the `jax_verify` section."
      ],
      "metadata": {
        "id": "7t03G27E9TFQ"
      }
    },
    {
      "cell_type": "code",
      "source": [
        "def verify_lp_triangle(nnet_filename: str, input_range: np.ndarray) -> np.ndarray:\n",
        "\n",
        "  ibp_list, final_ibp = verify_ibp(nnet_filename, input_range)\n",
        "  ibp_boxes = [input_range]+ibp_list\n",
        "\n",
        "  Ws, bs = nnet_to_weights_and_biases(nnet_filename)\n",
        "  m = weights_and_biases_to_pytorch(Ws, bs)\n",
        "  Ws, bs = model_to_weights_and_biases(m)\n",
        "  constraints = []\n",
        "\n",
        "  input_variables = []\n",
        "  # linear variables, eventually, becomes the set of all variables\n",
        "  linear_variables = []\n",
        "  relu_variables_y = []\n",
        "\n",
        "  weight_index = 0\n",
        "\n",
        "  # I start from -1 to account the input layer which is not integrated in the model.\n",
        "  for i in range(-1, len(model)):\n",
        "\n",
        "    if i == -1: # input layer\n",
        "      input_variables.append(cp.Variable((input_range.shape[0],1))) # in the cartpole case, (4,1)\n",
        "      lower = ibp_boxes[0][:,[0]] # lower of the IBP\n",
        "      upper = ibp_boxes[0][:,[1]] # upper of the IBP\n",
        "      constraints.extend([ input_variables[-1] <= upper, input_variables[-1] >= lower])\n",
        "      linear_variables.append(input_variables[-1]) # it becomes easier for the second linear layer\n",
        "\n",
        "    elif isinstance(model[i], torch.nn.Linear): # any linear layer\n",
        "      linear_variables.append(cp.Variable((Ws[weight_index].shape[0],1)))\n",
        "      # z_i = W_i * x_i + b_i\n",
        "      constraints.extend([linear_variables[-1] == (Ws[weight_index]@ linear_variables[-2] + bs[weight_index].reshape(-1,1))])\n",
        "      weight_index += 1 # next element in Ws\n",
        "\n",
        "    elif isinstance(model[i], torch.nn.ReLU):\n",
        "      lower = ibp_boxes[i][:,[0]]\n",
        "      upper = ibp_boxes[i][:,[1]]\n",
        "      relu_variables_y.append(cp.Variable((Ws[weight_index-1].shape[0],1)))\n",
        "      # Whereas before I was able to compute all values in matrix forms, here I have to go neuron per neuron.\n",
        "      for j in range(Ws[weight_index-1].shape[0]): # -1 because we increment the value of weight_index at the end of each linear layer\n",
        "        lb = lower[j]\n",
        "        ub = upper[j]\n",
        "        if (lb <= 0) & (ub <= 0): # ReLU is definitely 0\n",
        "          constraints.extend([relu_variables_y[-1][j] == 0])\n",
        "        elif (lb>0) & (ub>0): # ReLU is definitely the same as x\n",
        "          constraints.extend([relu_variables_y[-1][j] == linear_variables[-1][j]])\n",
        "        else: # ReLU could be anything, applying the triangle relaxation as described in the paper\n",
        "          constraints.extend([  relu_variables_y[-1][j] >= 0,\n",
        "                                relu_variables_y[-1][j] >= linear_variables[-1][j],\n",
        "                                relu_variables_y[-1][j] <= cp.multiply(ub, linear_variables[-1][j]-lb) / (ub-lb) ])\n",
        "      linear_variables.append(relu_variables_y[-1]) # appending the final ReLU to the linear variables as to be called in the next layer\n",
        "\n",
        "\n",
        "  lower_bound = []\n",
        "  upper_bound = []\n",
        "\n",
        "  for i in range(linear_variables[-1].shape[0]):\n",
        "    lower_obj = cp.Problem(cp.Minimize(linear_variables[-1][i]), constraints).solve()\n",
        "    lower_bound.append(linear_variables[-1].value[i].item())\n",
        "    upper_obj = cp.Problem(cp.Maximize(linear_variables[-1][i]), constraints).solve()\n",
        "    upper_bound.append(linear_variables[-1].value[i].item())\n",
        "\n",
        "  output_range = np.vstack((lower_bound, upper_bound)).T\n",
        "  return output_range"
      ],
      "metadata": {
        "id": "MZpmBeBkYXWZ"
      },
      "execution_count": 14,
      "outputs": []
    },
    {
      "cell_type": "code",
      "source": [
        "output_range_lp_triangle = verify_lp_triangle(nnet_filename, input_range)\n",
        "print(output_range_lp_triangle)"
      ],
      "metadata": {
        "colab": {
          "base_uri": "https://localhost:8080/"
        },
        "id": "JTpp_Evb2Ccd",
        "outputId": "8ed415ff-4f2f-4de8-a357-6b6c18c9eef4"
      },
      "execution_count": 15,
      "outputs": [
        {
          "output_type": "stream",
          "name": "stdout",
          "text": [
            "[[  0.49762228  25.70728041]\n",
            " [-11.84320978   5.98689269]]\n"
          ]
        }
      ]
    },
    {
      "cell_type": "markdown",
      "source": [
        "**MILP approach.**\n",
        "\n",
        "In this case, I use the MILP encoding, where the uncertain ReLU is codified as:\n",
        "\n",
        "$$y≤x-l\\cdot(1-a)$$\n",
        "$$y≥x$$\n",
        "$$y≤u\\cdot{a}$$\n",
        "$$y≥0$$\n",
        "$$a\\in{0,1}$$"
      ],
      "metadata": {
        "id": "x6fooj3ERxzK"
      }
    },
    {
      "cell_type": "code",
      "source": [
        "def verify_lp(nnet_filename: str, input_range: np.ndarray) -> np.ndarray:\n",
        "\n",
        "  ibp_list, final_ibp = verify_ibp(nnet_filename, input_range)\n",
        "  ibp_boxes = [input_range]+ibp_list\n",
        "\n",
        "  Ws, bs = nnet_to_weights_and_biases(nnet_filename)\n",
        "  m = weights_and_biases_to_pytorch(Ws, bs)\n",
        "  Ws, bs = model_to_weights_and_biases(m)\n",
        "  constraints = []\n",
        "\n",
        "  input_variables = []\n",
        "  # linear variables, eventually, becomes the set of all variables but a\n",
        "  linear_variables = []\n",
        "  relu_variables_y = []\n",
        "  relu_variables_a = [] # the boolean list of variables\n",
        "\n",
        "\n",
        "  weight_index = 0\n",
        "\n",
        "  # I start from -1 to account the input layer which is not integrated in the model.\n",
        "  for i in range(-1, len(model)):\n",
        "    if i == -1: # input layer\n",
        "      input_variables.append(cp.Variable((input_range.shape[0],1))) # in this case, (4,1)\n",
        "      lower = ibp_boxes[0][:,[0]] # lower of the IBP\n",
        "      upper = ibp_boxes[0][:,[1]] # upper of the IBP\n",
        "      constraints.extend([ input_variables[-1] <= upper, input_variables[-1] >= lower])\n",
        "      linear_variables.append(input_variables[-1]) # it becomes easier for the second linear layer\n",
        "    elif isinstance(model[i], torch.nn.Linear): # any linear layer\n",
        "      linear_variables.append(cp.Variable((Ws[weight_index].shape[0],1)))\n",
        "      # z_i = W_i * x_i + b_i\n",
        "      constraints.extend([linear_variables[-1] == (Ws[weight_index]@ linear_variables[-2] + bs[weight_index].reshape(-1,1))])\n",
        "      weight_index += 1 # next element in Ws\n",
        "\n",
        "    elif isinstance(model[i], torch.nn.ReLU):\n",
        "      lower = ibp_boxes[i][:,[0]]\n",
        "      upper = ibp_boxes[i][:,[1]]\n",
        "      relu_variables_y.append(cp.Variable((Ws[weight_index-1].shape[0],1)))\n",
        "      relu_variables_a.append(cp.Variable((Ws[weight_index-1].shape[0],1), boolean=True)) # the variable a is only boolean\n",
        "      # Whereas before I was able to compute all values in matrix forms, here I have to go neuron per neuron.\n",
        "      for j in range(Ws[weight_index-1].shape[0]): # -1 because we increment the value of weight_index at the end of each linear layer\n",
        "        lb = lower[j]\n",
        "        ub = upper[j]\n",
        "        if (lb <= 0) & (ub <= 0): # ReLU is definitely 0\n",
        "          constraints.extend([ relu_variables_a[-1][j] == 0, relu_variables_y[-1][j] == 0])\n",
        "        elif (lb>0) & (ub>0): # ReLU is definitely the same as x\n",
        "          constraints.extend([ relu_variables_a[-1][j] == 1, relu_variables_y[-1][j] == linear_variables[-1][j]])\n",
        "        else: # ReLU could be anything, applying the exact MILP encoding as on the slides\n",
        "          constraints.extend([  relu_variables_y[-1][j] <= linear_variables[-1][j] - cp.multiply(lb, (1-relu_variables_a[-1][j])) ,\n",
        "                                relu_variables_y[-1][j] >= linear_variables[-1][j],\n",
        "                                relu_variables_y[-1][j] <= cp.multiply(ub, relu_variables_a[-1][j]),\n",
        "                                relu_variables_y[-1][j] >= 0 ])\n",
        "      linear_variables.append(relu_variables_y[-1]) # appending the final ReLU to the linear variables as to be called in the next layer\n",
        "\n",
        "\n",
        "  lower_bound = []\n",
        "  upper_bound = []\n",
        "\n",
        "  for i in range(linear_variables[-1].shape[0]):\n",
        "    lower_obj = cp.Problem(cp.Minimize(linear_variables[-1][i]), constraints).solve()\n",
        "    lower_bound.append(linear_variables[-1].value[i].item())\n",
        "    upper_obj = cp.Problem(cp.Maximize(linear_variables[-1][i]), constraints).solve()\n",
        "    upper_bound.append(linear_variables[-1].value[i].item())\n",
        "\n",
        "  output_range = np.vstack((lower_bound, upper_bound)).T\n",
        "  return output_range"
      ],
      "metadata": {
        "id": "OuhcJQGGZjqH"
      },
      "execution_count": 16,
      "outputs": []
    },
    {
      "cell_type": "code",
      "source": [
        "output_range_lp_milp = verify_lp(nnet_filename, input_range)\n",
        "print(output_range_lp_milp)"
      ],
      "metadata": {
        "colab": {
          "base_uri": "https://localhost:8080/"
        },
        "id": "mF40-NdF2GhX",
        "outputId": "8b0958f2-8d99-4bc0-8126-49c0fa29171c"
      },
      "execution_count": 17,
      "outputs": [
        {
          "output_type": "stream",
          "name": "stdout",
          "text": [
            "[[11.16606096 16.43648271]\n",
            " [-4.37983591 -1.08750905]]\n"
          ]
        }
      ]
    },
    {
      "cell_type": "markdown",
      "source": [
        "Let's start by drawing a quick comparison between MILP and Triangle."
      ],
      "metadata": {
        "id": "uCIOJDbovmSQ"
      }
    },
    {
      "cell_type": "code",
      "source": [
        "plot_rectangle(output_range_lp_triangle, alg=\"Triangle\")\n",
        "plot_rectangle(output_range_lp_milp, alg=\"MILP\")\n",
        "plot_pretty_graph(\"Bounds\")"
      ],
      "metadata": {
        "colab": {
          "base_uri": "https://localhost:8080/",
          "height": 472
        },
        "id": "l4fzMU_Yvl8Y",
        "outputId": "b077406d-123a-47e2-eb10-3bf7b5de7886"
      },
      "execution_count": 18,
      "outputs": [
        {
          "output_type": "display_data",
          "data": {
            "text/plain": [
              "<Figure size 640x480 with 1 Axes>"
            ],
            "image/png": "[encoded data removed]"
          },
          "metadata": {}
        }
      ]
    },
    {
      "cell_type": "markdown",
      "source": [
        "We can see that MILP is much more bounded than Triangle and it makes sense, since triangle is a relaxation method."
      ],
      "metadata": {
        "id": "lshXVQH7_DHH"
      }
    },
    {
      "cell_type": "markdown",
      "source": [
        "Now let's compare MILP and Sampling."
      ],
      "metadata": {
        "id": "XeJxmOuywLDf"
      }
    },
    {
      "cell_type": "code",
      "source": [
        "plot_random_sample(random_sample_final_result, with_value=True)\n",
        "plot_rectangle(output_range_lp_milp, alg=\"MILP\")\n",
        "plot_pretty_graph(\"Bounds\")"
      ],
      "metadata": {
        "colab": {
          "base_uri": "https://localhost:8080/",
          "height": 528
        },
        "id": "dkmhnp0jvlv4",
        "outputId": "13c473f4-177b-43c5-b3c8-e91c3232b2e1"
      },
      "execution_count": 19,
      "outputs": [
        {
          "output_type": "stream",
          "name": "stderr",
          "text": [
            "/usr/local/lib/python3.10/dist-packages/IPython/core/pylabtools.py:151: UserWarning: Creating legend with loc=\"best\" can be slow with large amounts of data.\n",
            "  fig.canvas.print_figure(bytes_io, **kw)\n"
          ]
        },
        {
          "output_type": "display_data",
          "data": {
            "text/plain": [
              "<Figure size 640x480 with 1 Axes>"
            ],
            "image/png": "[encoded data removed]"
          },
          "metadata": {}
        }
      ]
    },
    {
      "cell_type": "markdown",
      "source": [
        "The MILP is a bit looser than the sampling, but I believe it comes from the randomness of the sampling. The looser bounds are where there are fewer datapoints."
      ],
      "metadata": {
        "id": "cURwyo6OFjym"
      }
    },
    {
      "cell_type": "markdown",
      "source": [
        "And finally a comparison of bounds of all algorithms so far."
      ],
      "metadata": {
        "id": "oDXBnwZRwcZk"
      }
    },
    {
      "cell_type": "code",
      "source": [
        "plot_random_sample(random_sample_final_result, with_value=False, lw=3)\n",
        "plot_rectangle(output_range_ibp, alg='IBP', lw=2)\n",
        "plot_rectangle(output_range_lp_milp, alg=\"MILP\", lw=2)\n",
        "plot_rectangle(output_range_lp_triangle, alg=\"Triangle\", lw=2)\n",
        "plot_pretty_graph(\"Bounds\")"
      ],
      "metadata": {
        "colab": {
          "base_uri": "https://localhost:8080/",
          "height": 472
        },
        "id": "sIokR1jbwbti",
        "outputId": "d2fc1242-2eee-4160-973f-02bd37aaeaf4"
      },
      "execution_count": 20,
      "outputs": [
        {
          "output_type": "display_data",
          "data": {
            "text/plain": [
              "<Figure size 640x480 with 1 Axes>"
            ],
            "image/png": "[encoded data removed]"
          },
          "metadata": {}
        }
      ]
    },
    {
      "cell_type": "markdown",
      "source": [
        "# Problem 4: Verify Classifier Robustness [DONE]"
      ],
      "metadata": {
        "id": "LKmmrX0Guiep"
      }
    },
    {
      "cell_type": "markdown",
      "source": [
        "So far, you have written verification algorithms that provide upper and lower bounds on each output of the NN. Here, you will slightly modify your LP verifier so that it verifies the *robustness* of a *classifier* (i.e., prove that the classifier predicts the same class for every input within some range).\n",
        "\n",
        "If the verification algorithm is able to prove robustness, you should return `VerifierResults.Robust`. If the verification algorithm is unable to prove robustness, you should return `VerifierResults.Unsure` (remember that this doesn't necessarily mean the classifier isn't robust, just that our algorithm failed to find a proof). I also added a `VerifierResults.Timeout` option, because you will often see this in real verification algorithms, but you do not need to use this here.\n",
        "\n",
        "To start, you can pretend the cartpole controller was a classifier and try to see how large of an epsilon you can specify until you can't verify the robustness anymore.\n",
        "\n",
        "Then, you can load an MNIST classifier (code below) and try to see how large of an epsilon for which you can still verify robustness around a nominal image. Since the MNIST classifier is a way bigger NN, there will be some impact on the runtime of your LP.\n",
        "\n",
        "**Deliverables:**\n",
        "\n",
        "- Implement `verify_classification_robustness_lp`\n",
        "- Plot and/or briefly describe your findings w.r.t. robustness verification as you increase epsilon for the cartpole controller\n",
        "- Plot and/or briefly describe your findings w.r.t. robustness verification as you increase epsilon for the MNIST classifier"
      ],
      "metadata": {
        "id": "20SXabwqAfEZ"
      }
    },
    {
      "cell_type": "markdown",
      "source": [
        "Let's start with the **cartpole**."
      ],
      "metadata": {
        "id": "ylLZkCBLCSus"
      }
    },
    {
      "cell_type": "code",
      "source": [
        "class VerifierResults(Enum):\n",
        "  Robust = 0\n",
        "  Unsure = 1\n",
        "  Timeout = 2 # not used\n",
        "\n",
        "def verify_classification_robustness_lp(nnet_filename: str, input_range: np.ndarray, nominal_input: np.ndarray) -> np.ndarray:\n",
        "  ## from here to ...\n",
        "  ibp_list, final_ibp = verify_ibp(nnet_filename, input_range)\n",
        "  ibp_boxes = [input_range]+ibp_list\n",
        "\n",
        "  Ws, bs = nnet_to_weights_and_biases(nnet_filename)\n",
        "  m = weights_and_biases_to_pytorch(Ws, bs)\n",
        "  Ws, bs = model_to_weights_and_biases(m)\n",
        "  model = nnet_to_pytorch(nnet_filename)\n",
        "  constraints = []\n",
        "\n",
        "  input_variables = []\n",
        "  # linear variables, eventually, becomes the set of all variables but a\n",
        "  linear_variables = []\n",
        "  relu_variables_y = []\n",
        "  relu_variables_a = [] # the boolean list of variables\n",
        "\n",
        "  # quick hack to fix the wrong output dimension between the two models.\n",
        "  if nnet_filename == 'mnist1.nnet':\n",
        "    result = model(nominal_input).detach_().numpy()\n",
        "  else:\n",
        "    result = model(nominal_input).detach_().numpy()[0]\n",
        "\n",
        "  weight_index = 0\n",
        "  #print(ibp_boxes)\n",
        "  # I start from -1 to account the input layer which is not integrated in the model.\n",
        "  for i in range(-1, len(model)):\n",
        "    if i == -1: # input layer\n",
        "      input_variables.append(cp.Variable((input_range.shape[0],1))) # in this case, (4,1)\n",
        "      lower = ibp_boxes[0][:,[0]] # lower of the IBP\n",
        "      upper = ibp_boxes[0][:,[1]] # upper of the IBP\n",
        "      constraints.extend([ input_variables[-1] <= upper, input_variables[-1] >= lower])\n",
        "      linear_variables.append(input_variables[-1]) # it becomes easier for the second linear layer\n",
        "    elif isinstance(model[i], torch.nn.Linear): # any linear layer\n",
        "      linear_variables.append(cp.Variable((Ws[weight_index].shape[0],1)))\n",
        "      # z_i = W_i * x_i + b_i\n",
        "      constraints.extend([linear_variables[-1] == (Ws[weight_index]@ linear_variables[-2] + bs[weight_index].reshape(-1,1))])\n",
        "      weight_index += 1 # next element in Ws\n",
        "\n",
        "    elif isinstance(model[i], torch.nn.ReLU):\n",
        "      lower = ibp_boxes[i][:,[0]]\n",
        "      upper = ibp_boxes[i][:,[1]]\n",
        "      relu_variables_y.append(cp.Variable((Ws[weight_index-1].shape[0],1)))\n",
        "      relu_variables_a.append(cp.Variable((Ws[weight_index-1].shape[0],1), boolean=True)) # the variable a is only boolean\n",
        "      # Whereas before I was able to compute all values in matrix forms, here I have to go neuron per neuron.\n",
        "      for j in range(Ws[weight_index-1].shape[0]): # -1 because we increment the value of weight_index at the end of each linear layer\n",
        "        lb = lower[j]\n",
        "        ub = upper[j]\n",
        "        if (lb <= 0) & (ub <= 0): # ReLU is definitely 0\n",
        "          constraints.extend([ relu_variables_a[-1][j] == 0, relu_variables_y[-1][j] == 0])\n",
        "        elif (lb>0) & (ub>0): # ReLU is definitely the same as x\n",
        "          constraints.extend([ relu_variables_a[-1][j] == 1, relu_variables_y[-1][j] == linear_variables[-1][j]])\n",
        "        else: # ReLU could be anything, applying the exact MILP encoding as on the slides\n",
        "          constraints.extend([  relu_variables_y[-1][j] <= linear_variables[-1][j] - cp.multiply(lb, (1-relu_variables_a[-1][j])) ,\n",
        "                                relu_variables_y[-1][j] >= linear_variables[-1][j],\n",
        "                                relu_variables_y[-1][j] <= cp.multiply(ub, relu_variables_a[-1][j]),\n",
        "                                relu_variables_y[-1][j] >= 0 ])\n",
        "      linear_variables.append(relu_variables_y[-1]) # appending the final ReLU to the linear variables as to be called in the next layer\n",
        "  ## ... here is the same as the LP verifier with MILP.\n",
        "\n",
        "  # this is the argmax real class\n",
        "  target_class = np.argmax(result)\n",
        "\n",
        "  print(\"Original target_class: \", target_class)\n",
        "\n",
        "  for i in range(linear_variables[-1].shape[0]):\n",
        "    if target_class == i:\n",
        "      # no need to check class i with class i\n",
        "      continue\n",
        "    else:\n",
        "      if result[target_class]>=result[i]:\n",
        "        obj = cp.Problem(cp.Minimize((linear_variables[-1][target_class]-linear_variables[-1][i])), constraints).solve()\n",
        "      else:\n",
        "        obj = cp.Problem(cp.Minimize(-(linear_variables[-1][target_class]-linear_variables[-1][i])), constraints).solve()\n",
        "    if obj >= 0:\n",
        "      print(\"Robust against class\", i)\n",
        "    else:\n",
        "      print(\"Unsure against class\", i)\n",
        "      return VerifierResults.Unsure # no need to continue\n",
        "\n",
        "  return VerifierResults.Robust # we have tried all combinations"
      ],
      "metadata": {
        "id": "vg-fZ4kN-1j8"
      },
      "execution_count": 21,
      "outputs": []
    },
    {
      "cell_type": "code",
      "source": [
        "list_epsilon = [0.5, 0.6, 0.7, 0.8, 0.9, 1]\n",
        "\n",
        "for epsilon in list_epsilon:\n",
        "  print(\"Epsilon: \", epsilon)\n",
        "  input_range = nominal_and_epsilon_to_range(nominal_input, epsilon)\n",
        "  output_range_lp = verify_classification_robustness_lp(nnet_filename, input_range, nominal_input)\n",
        "  print(output_range_lp, \"\\n\\n\")"
      ],
      "metadata": {
        "colab": {
          "base_uri": "https://localhost:8080/"
        },
        "id": "DIJ6wdVxuRZs",
        "outputId": "52d2e29d-379c-4e28-efbf-6c92bbf1c249"
      },
      "execution_count": 22,
      "outputs": [
        {
          "output_type": "stream",
          "name": "stdout",
          "text": [
            "Epsilon:  0.5\n",
            "Original target_class:  0\n",
            "Robust against class 1\n",
            "VerifierResults.Robust \n",
            "\n",
            "\n",
            "Epsilon:  0.6\n",
            "Original target_class:  0\n",
            "Robust against class 1\n",
            "VerifierResults.Robust \n",
            "\n",
            "\n",
            "Epsilon:  0.7\n",
            "Original target_class:  0\n",
            "Unsure against class 1\n",
            "VerifierResults.Unsure \n",
            "\n",
            "\n",
            "Epsilon:  0.8\n",
            "Original target_class:  0\n",
            "Unsure against class 1\n",
            "VerifierResults.Unsure \n",
            "\n",
            "\n",
            "Epsilon:  0.9\n",
            "Original target_class:  0\n",
            "Unsure against class 1\n",
            "VerifierResults.Unsure \n",
            "\n",
            "\n",
            "Epsilon:  1\n",
            "Original target_class:  0\n",
            "Unsure against class 1\n",
            "VerifierResults.Unsure \n",
            "\n",
            "\n"
          ]
        }
      ]
    },
    {
      "cell_type": "markdown",
      "source": [
        "So, 0.7 seems the maximum perturbation allowed before the sign of the objective function becomes negative (and therefore our hyphotetical binary classifier is wrong)."
      ],
      "metadata": {
        "id": "1Ah_13SsCHDA"
      }
    },
    {
      "cell_type": "markdown",
      "source": [
        "Load a NN classifier for **MNIST**, then query the model at a particular image:"
      ],
      "metadata": {
        "id": "OmTWXVJ65a1C"
      }
    },
    {
      "cell_type": "code",
      "source": [
        "print(\"MNIST Classifier\")\n",
        "\n",
        "# Load the NNet file and pass a nominal input to get the class logits\n",
        "nnet_filename_mnist = \"mnist1.nnet\"\n",
        "\n",
        "from tensorflow.keras.datasets import mnist\n",
        "(x_train, y_train), (x_test, y_test) = mnist.load_data()\n",
        "img_index = 2 # this one should be correctly classified as a 4...\n",
        "nominal_input_mnist = torch.Tensor(x_train[img_index].flatten())\n",
        "model_mnist = nnet_to_pytorch(nnet_filename_mnist)\n",
        "Ws_mnist, bs_mnist = model_to_weights_and_biases(model_mnist)\n",
        "nominal_output = model_mnist(nominal_input_mnist)\n",
        "nominal_class = nominal_output.argmax()\n",
        "print(f\"{nominal_output=}\")\n",
        "print(f\"Predicted Class: {nominal_class}, True Class: {y_train[img_index]}\")"
      ],
      "metadata": {
        "id": "LlJYRiLv5fdU",
        "colab": {
          "base_uri": "https://localhost:8080/"
        },
        "outputId": "9a6344db-9da3-416e-b318-228ecf437fcb"
      },
      "execution_count": 23,
      "outputs": [
        {
          "output_type": "stream",
          "name": "stdout",
          "text": [
            "MNIST Classifier\n",
            "Downloading data from https://storage.googleapis.com/tensorflow/tf-keras-datasets/mnist.npz\n",
            "11490434/11490434 [==============================] - 0s 0us/step\n",
            "nominal_output=tensor([ -130.8385, -1543.3896,   131.6747,   348.4880,   987.1154, -1114.0826,\n",
            "         -638.6053,   216.2303,   -85.5050,   418.8903],\n",
            "       grad_fn=<AddBackward0>)\n",
            "Predicted Class: 4, True Class: 4\n"
          ]
        }
      ]
    },
    {
      "cell_type": "code",
      "source": [
        "# Also set up an example set of possible inputs to this NN\n",
        "epsilon_mnist_list = [1, 2, 3, 4, 4.2, 4.5]\n",
        "for e in epsilon_mnist_list:\n",
        "  epsilon_mnist = e*np.ones((784))\n",
        "  input_range_mnist = nominal_and_epsilon_to_range(nominal_input_mnist, epsilon_mnist)\n",
        "  #print(f\"{input_range_mnist=}\")\n",
        "  print(\"Epsilon: \", e)\n",
        "\n",
        "  verifier_result = verify_classification_robustness_lp(nnet_filename_mnist, input_range_mnist, nominal_input_mnist)\n",
        "  print(verifier_result, \"\\n\")"
      ],
      "metadata": {
        "id": "h5Z8Wsr-6HiQ",
        "colab": {
          "base_uri": "https://localhost:8080/"
        },
        "outputId": "55f150aa-d2ea-44a7-ff9a-079b29fae051"
      },
      "execution_count": 24,
      "outputs": [
        {
          "output_type": "stream",
          "name": "stdout",
          "text": [
            "Epsilon:  1\n",
            "Original target_class:  4\n",
            "Robust against class 0\n",
            "Robust against class 1\n",
            "Robust against class 2\n",
            "Robust against class 3\n",
            "Robust against class 5\n",
            "Robust against class 6\n",
            "Robust against class 7\n",
            "Robust against class 8\n",
            "Robust against class 9\n",
            "VerifierResults.Robust \n",
            "\n",
            "Epsilon:  2\n",
            "Original target_class:  4\n",
            "Robust against class 0\n",
            "Robust against class 1\n",
            "Robust against class 2\n",
            "Robust against class 3\n",
            "Robust against class 5\n",
            "Robust against class 6\n",
            "Robust against class 7\n",
            "Robust against class 8\n",
            "Robust against class 9\n",
            "VerifierResults.Robust \n",
            "\n",
            "Epsilon:  3\n",
            "Original target_class:  4\n",
            "Robust against class 0\n",
            "Robust against class 1\n",
            "Robust against class 2\n",
            "Robust against class 3\n",
            "Robust against class 5\n",
            "Robust against class 6\n",
            "Robust against class 7\n",
            "Robust against class 8\n",
            "Robust against class 9\n",
            "VerifierResults.Robust \n",
            "\n",
            "Epsilon:  4\n",
            "Original target_class:  4\n",
            "Robust against class 0\n",
            "Robust against class 1\n",
            "Robust against class 2\n",
            "Robust against class 3\n",
            "Robust against class 5\n",
            "Robust against class 6\n",
            "Robust against class 7\n",
            "Robust against class 8\n",
            "Robust against class 9\n",
            "VerifierResults.Robust \n",
            "\n",
            "Epsilon:  4.2\n",
            "Original target_class:  4\n",
            "Robust against class 0\n",
            "Robust against class 1\n",
            "Robust against class 2\n",
            "Unsure against class 3\n",
            "VerifierResults.Unsure \n",
            "\n",
            "Epsilon:  4.5\n",
            "Original target_class:  4\n",
            "Robust against class 0\n",
            "Robust against class 1\n",
            "Robust against class 2\n",
            "Unsure against class 3\n",
            "VerifierResults.Unsure \n",
            "\n"
          ]
        }
      ]
    },
    {
      "cell_type": "markdown",
      "source": [
        "The code correctly finds whether the epsilon put as perturbation to the specific input yields to a misclassified output, in this case at around epsilon=4.2."
      ],
      "metadata": {
        "id": "1qaatmRmBvVz"
      }
    },
    {
      "cell_type": "markdown",
      "source": [
        "# Problem 5: Explore the `jax_verify` library for verification [DONE]"
      ],
      "metadata": {
        "id": "O6LR1io6Bpht"
      }
    },
    {
      "cell_type": "markdown",
      "source": [
        "There are a few excellent open-source libraries for NN verification. For example, `jax_verify` has implementations of IBP, CROWN, and many other algorithms. These methods can handle a broader class of NNs than just the ReLU NNs you worked with above, so they may be useful tools to leverage in your research or projects.\n",
        "\n",
        "A big upside of `jax_verify` is that it supports JIT compilation, which can speed up verification algorithms by 10-100x (you don't need to set up JIT compilation for this assignment, but you're encouraged to try that out if you're curious).\n",
        "\n",
        "Note that the `jax_verify` that is available by default in PyPi is an old version from 2020 that has a slightly different API - installing a more recent version is recommended as we do below."
      ],
      "metadata": {
        "id": "RWh1SWEEAkND"
      }
    },
    {
      "cell_type": "code",
      "source": [
        "# Install my fork of jax_verify, which fixes a few deprecation errors in the mainline repo\n",
        "!pip install git+https://gitlab.com/neu-autonomy/certifiable-learning/jax_verify"
      ],
      "metadata": {
        "id": "7ic1irPeBiZZ",
        "colab": {
          "base_uri": "https://localhost:8080/"
        },
        "outputId": "53a5979e-8299-4ce8-aff3-af52b3c92d48"
      },
      "execution_count": 25,
      "outputs": [
        {
          "output_type": "stream",
          "name": "stdout",
          "text": [
            "Collecting git+https://gitlab.com/neu-autonomy/certifiable-learning/jax_verify\n",
            "  Cloning https://gitlab.com/neu-autonomy/certifiable-learning/jax_verify to /tmp/pip-req-build-7i47ww1b\n",
            "  Running command git clone --filter=blob:none --quiet https://gitlab.com/neu-autonomy/certifiable-learning/jax_verify /tmp/pip-req-build-7i47ww1b\n",
            "  warning: redirecting to https://gitlab.com/neu-autonomy/certifiable-learning/jax_verify.git/\n",
            "  Resolved https://gitlab.com/neu-autonomy/certifiable-learning/jax_verify to commit e7377591821f35b479aa89c7ac2ca0adb5c5415d\n",
            "  Preparing metadata (setup.py) ... \u001b[?25l\u001b[?25hdone\n",
            "Collecting einshape@ git+https://github.com/deepmind/einshape.git (from jax-verify==1.0)\n",
            "  Cloning https://github.com/deepmind/einshape.git to /tmp/pip-install-zc_vdgi9/einshape_93e64380f6dc4ed9b65535b12e2ea3d3\n",
            "  Running command git clone --filter=blob:none --quiet https://github.com/deepmind/einshape.git /tmp/pip-install-zc_vdgi9/einshape_93e64380f6dc4ed9b65535b12e2ea3d3\n",
            "  Resolved https://github.com/deepmind/einshape.git to commit d91ab136da3d97f4ba2b4582531cdc2dfd9fab0a\n",
            "  Preparing metadata (setup.py) ... \u001b[?25l\u001b[?25hdone\n",
            "Requirement already satisfied: absl-py in /usr/local/lib/python3.10/dist-packages (from jax-verify==1.0) (1.4.0)\n",
            "Requirement already satisfied: cvxpy in /usr/local/lib/python3.10/dist-packages (from jax-verify==1.0) (1.3.2)\n",
            "Requirement already satisfied: dm-tree in /usr/local/lib/python3.10/dist-packages (from jax-verify==1.0) (0.1.8)\n",
            "Requirement already satisfied: jax>=0.3.4 in /usr/local/lib/python3.10/dist-packages (from jax-verify==1.0) (0.4.16)\n",
            "Requirement already satisfied: jaxlib>=0.3.2 in /usr/local/lib/python3.10/dist-packages (from jax-verify==1.0) (0.4.16+cuda11.cudnn86)\n",
            "Requirement already satisfied: numpy in /usr/local/lib/python3.10/dist-packages (from jax-verify==1.0) (1.23.5)\n",
            "Requirement already satisfied: optax in /usr/local/lib/python3.10/dist-packages (from jax-verify==1.0) (0.1.7)\n",
            "Collecting dm-haiku (from jax-verify==1.0)\n",
            "  Downloading dm_haiku-0.0.10-py3-none-any.whl (360 kB)\n",
            "\u001b[2K     \u001b[90m━━━━━━━━━━━━━━━━━━━━━━━━━━━━━━━━━━━━━━━\u001b[0m \u001b[32m360.3/360.3 kB\u001b[0m \u001b[31m4.5 MB/s\u001b[0m eta \u001b[36m0:00:00\u001b[0m\n",
            "\u001b[?25hCollecting ml_collections (from jax-verify==1.0)\n",
            "  Downloading ml_collections-0.1.1.tar.gz (77 kB)\n",
            "\u001b[2K     \u001b[90m━━━━━━━━━━━━━━━━━━━━━━━━━━━━━━━━━━━━━━━━\u001b[0m \u001b[32m77.9/77.9 kB\u001b[0m \u001b[31m8.9 MB/s\u001b[0m eta \u001b[36m0:00:00\u001b[0m\n",
            "\u001b[?25h  Preparing metadata (setup.py) ... \u001b[?25l\u001b[?25hdone\n",
            "Requirement already satisfied: ml-dtypes>=0.2.0 in /usr/local/lib/python3.10/dist-packages (from jax>=0.3.4->jax-verify==1.0) (0.3.1)\n",
            "Requirement already satisfied: opt-einsum in /usr/local/lib/python3.10/dist-packages (from jax>=0.3.4->jax-verify==1.0) (3.3.0)\n",
            "Requirement already satisfied: scipy>=1.7 in /usr/local/lib/python3.10/dist-packages (from jax>=0.3.4->jax-verify==1.0) (1.11.3)\n",
            "Requirement already satisfied: osqp>=0.4.1 in /usr/local/lib/python3.10/dist-packages (from cvxpy->jax-verify==1.0) (0.6.2.post8)\n",
            "Requirement already satisfied: ecos>=2 in /usr/local/lib/python3.10/dist-packages (from cvxpy->jax-verify==1.0) (2.0.12)\n",
            "Requirement already satisfied: scs>=1.1.6 in /usr/local/lib/python3.10/dist-packages (from cvxpy->jax-verify==1.0) (3.2.3)\n",
            "Requirement already satisfied: setuptools>65.5.1 in /usr/local/lib/python3.10/dist-packages (from cvxpy->jax-verify==1.0) (67.7.2)\n",
            "Collecting jmp>=0.0.2 (from dm-haiku->jax-verify==1.0)\n",
            "  Downloading jmp-0.0.4-py3-none-any.whl (18 kB)\n",
            "Requirement already satisfied: tabulate>=0.8.9 in /usr/local/lib/python3.10/dist-packages (from dm-haiku->jax-verify==1.0) (0.9.0)\n",
            "Requirement already satisfied: PyYAML in /usr/local/lib/python3.10/dist-packages (from ml_collections->jax-verify==1.0) (6.0.1)\n",
            "Requirement already satisfied: six in /usr/local/lib/python3.10/dist-packages (from ml_collections->jax-verify==1.0) (1.16.0)\n",
            "Requirement already satisfied: contextlib2 in /usr/local/lib/python3.10/dist-packages (from ml_collections->jax-verify==1.0) (21.6.0)\n",
            "Requirement already satisfied: chex>=0.1.5 in /usr/local/lib/python3.10/dist-packages (from optax->jax-verify==1.0) (0.1.7)\n",
            "Requirement already satisfied: toolz>=0.9.0 in /usr/local/lib/python3.10/dist-packages (from chex>=0.1.5->optax->jax-verify==1.0) (0.12.0)\n",
            "Requirement already satisfied: typing-extensions>=4.2.0 in /usr/local/lib/python3.10/dist-packages (from chex>=0.1.5->optax->jax-verify==1.0) (4.5.0)\n",
            "Requirement already satisfied: qdldl in /usr/local/lib/python3.10/dist-packages (from osqp>=0.4.1->cvxpy->jax-verify==1.0) (0.1.7.post0)\n",
            "Building wheels for collected packages: jax-verify, einshape, ml_collections\n",
            "  Building wheel for jax-verify (setup.py) ... \u001b[?25l\u001b[?25hdone\n",
            "  Created wheel for jax-verify: filename=jax_verify-1.0-py3-none-any.whl size=290935 sha256=6181dd9520575980da9ebc71687ace68ef5a0c51e3de3839cb70f9018e71965d\n",
            "  Stored in directory: /tmp/pip-ephem-wheel-cache-sgx33nq1/wheels/49/2e/d8/7d1104b0b3e2e4f4192e1599a7e29ccd0f9eacefc953896d3e\n",
            "  Building wheel for einshape (setup.py) ... \u001b[?25l\u001b[?25hdone\n",
            "  Created wheel for einshape: filename=einshape-1.0-py3-none-any.whl size=21388 sha256=223cfc11532e74851203cdcf8af6fccd8351bac5ae33339ece9ca4be778ab148\n",
            "  Stored in directory: /tmp/pip-ephem-wheel-cache-sgx33nq1/wheels/a0/70/0d/b4aa73e03a22f563966311696eab997a40424a922bfd6aa609\n",
            "  Building wheel for ml_collections (setup.py) ... \u001b[?25l\u001b[?25hdone\n",
            "  Created wheel for ml_collections: filename=ml_collections-0.1.1-py3-none-any.whl size=94506 sha256=38b0feea56b75c5b2319c53b221401e6bfffe35f76c1f1745ab6fa6a44d0d7b9\n",
            "  Stored in directory: /root/.cache/pip/wheels/7b/89/c9/a9b87790789e94aadcfc393c283e3ecd5ab916aed0a31be8fe\n",
            "Successfully built jax-verify einshape ml_collections\n",
            "Installing collected packages: ml_collections, jmp, einshape, dm-haiku, jax-verify\n",
            "Successfully installed dm-haiku-0.0.10 einshape-1.0 jax-verify-1.0 jmp-0.0.4 ml_collections-0.1.1\n"
          ]
        }
      ]
    },
    {
      "cell_type": "code",
      "source": [
        "import jax.numpy as jnp\n",
        "import jax_verify\n",
        "import functools"
      ],
      "metadata": {
        "id": "XisKYJtrp1JX",
        "colab": {
          "base_uri": "https://localhost:8080/"
        },
        "outputId": "5c4db80c-5a06-463f-c8d7-c35cb7f78b53"
      },
      "execution_count": 26,
      "outputs": [
        {
          "output_type": "stream",
          "name": "stderr",
          "text": [
            "WARNING:jax._src.xla_bridge:No GPU/TPU found, falling back to CPU. (Set TF_CPP_MIN_LOG_LEVEL=0 and rerun for more info.)\n"
          ]
        }
      ]
    },
    {
      "cell_type": "markdown",
      "source": [
        "Loading the cartpole again."
      ],
      "metadata": {
        "id": "MlMKmf0CoAJA"
      }
    },
    {
      "cell_type": "code",
      "source": [
        "print(\"Cartpole Controller\")\n",
        "\n",
        "# Load the NNet file and pass a nominal input to get the class logits\n",
        "nnet_filename = \"cartpole_nnet.nnet\"\n",
        "nominal_input = torch.Tensor([[0., 0.1, 0.2, 0.3]]) # these 4 values correspond to the 4 states in cartpole\n",
        "model = nnet_to_pytorch(nnet_filename)\n",
        "Ws, bs = model_to_weights_and_biases(model)\n",
        "nominal_output = model(nominal_input)\n",
        "print(f\"{nominal_output=}\")\n",
        "\n",
        "# Also set up an example set of possible inputs to this NN\n",
        "epsilon = 0.1 # epsilon can be a scalar or a vec w/ same shape as nominal_input\n",
        "input_range = nominal_and_epsilon_to_range(nominal_input, epsilon)\n",
        "print(f\"{input_range=}\")"
      ],
      "metadata": {
        "colab": {
          "base_uri": "https://localhost:8080/"
        },
        "id": "-TAkkApln_aZ",
        "outputId": "0f0d7f21-af58-49e5-deac-164b3378cc4a"
      },
      "execution_count": 27,
      "outputs": [
        {
          "output_type": "stream",
          "name": "stdout",
          "text": [
            "Cartpole Controller\n",
            "nominal_output=tensor([[12.9007, -1.4208]], grad_fn=<AddmmBackward0>)\n",
            "input_range=array([[-0.1       ,  0.1       ],\n",
            "       [ 0.        ,  0.2       ],\n",
            "       [ 0.1       ,  0.3       ],\n",
            "       [ 0.20000002,  0.4       ]], dtype=float32)\n"
          ]
        }
      ]
    },
    {
      "cell_type": "markdown",
      "source": [
        "Some utility methods that help set up the NN in jax:"
      ],
      "metadata": {
        "id": "NbNHanmT3il0"
      }
    },
    {
      "cell_type": "code",
      "source": [
        "def pytorch_model_to_jax(torch_model: torch.nn.Sequential):\n",
        "  params = []\n",
        "  act = None\n",
        "\n",
        "  # Extract params (weights, biases) from torch layers, to be used in\n",
        "  # jax.\n",
        "  # Note: This propagator assumes a feed-forward relu NN.\n",
        "  for m in torch_model.modules():\n",
        "    if isinstance(m, torch.nn.Sequential):\n",
        "      continue\n",
        "    elif isinstance(m, torch.nn.ReLU):\n",
        "      if act is None or act == \"relu\":\n",
        "        act = \"relu\"\n",
        "    elif isinstance(m, torch.nn.Linear):\n",
        "      w = m.weight.data.numpy().T\n",
        "      b = m.bias.data.numpy()\n",
        "      params.append((w, b))\n",
        "  return functools.partial(relu_nn, params)\n",
        "\n",
        "def relu_nn(params, inputs):\n",
        "  for W, b in params[:-1]:\n",
        "    outputs = jnp.dot(inputs, W) + b\n",
        "    inputs = jnp.maximum(outputs, 0)\n",
        "  W, b = params[-1]\n",
        "  return jnp.dot(inputs, W) + b\n",
        "\n",
        "def jax_interval_to_np_range(interval: jax_verify.IntervalBound) -> np.ndarray:\n",
        "  return np.vstack([interval.lower, interval.upper]).T\n",
        "\n",
        "def np_range_to_jax_interval(input_range: np.ndarray) -> jax_verify.IntervalBound:\n",
        "  return jax_verify.IntervalBound(input_range[:, 0], input_range[:, 1])\n",
        "\n",
        "jax_model = pytorch_model_to_jax(model)"
      ],
      "metadata": {
        "id": "UAg7ZvB5o-vs"
      },
      "execution_count": 28,
      "outputs": []
    },
    {
      "cell_type": "markdown",
      "source": [
        "An example of using `jax_verify`'s implementation of IBP on our cartpole control NN"
      ],
      "metadata": {
        "id": "dhi8nfG53v8V"
      }
    },
    {
      "cell_type": "code",
      "source": [
        "# Example of a fwd pass on the NN using jax\n",
        "nominal_output_jax = jax_model(jnp.array(nominal_input))\n",
        "\n",
        "# Example of computing bounds using IBP as implemented by jax_verify\n",
        "input_bounds = np_range_to_jax_interval(input_range)\n",
        "output_bounds_ibp_jax = jax_verify.interval_bound_propagation(\n",
        "    jax_model, input_bounds)\n",
        "output_range_ibp_jax = jax_interval_to_np_range(output_bounds_ibp_jax)\n",
        "print(f\"output bounds via IBP (jax_verify): \\n{output_range_ibp_jax}\")"
      ],
      "metadata": {
        "id": "V2YWoAyD3pur",
        "colab": {
          "base_uri": "https://localhost:8080/"
        },
        "outputId": "4fae90e5-97b6-4f0c-82c3-ea2a50b5f303"
      },
      "execution_count": 29,
      "outputs": [
        {
          "output_type": "stream",
          "name": "stdout",
          "text": [
            "output bounds via IBP (jax_verify): \n",
            "[[-25.607307  52.51912 ]\n",
            " [-32.457947  23.750446]]\n"
          ]
        }
      ]
    },
    {
      "cell_type": "markdown",
      "source": [
        "Does that output match the output of your IBP implementation?"
      ],
      "metadata": {
        "id": "Q6bl9cwNyHOD"
      }
    },
    {
      "cell_type": "markdown",
      "source": [
        "**YES! It matches! :-)**"
      ],
      "metadata": {
        "id": "HawT65NWVSr5"
      }
    },
    {
      "cell_type": "markdown",
      "source": [
        "Now for your job: take a look at `jax_verify`'s documentation to see how to use the backward CROWN verifier.\n",
        "\n",
        "**Deliverables:**\n",
        "\n",
        "- output bounds using backward CROWN, rather than IBP"
      ],
      "metadata": {
        "id": "dkY2_OOayXJ7"
      }
    },
    {
      "cell_type": "markdown",
      "source": [
        "According to the documentation, backward CROWN is very simple to calculate importing the specific function.\n",
        "\n",
        "The bounds are much smaller that the one found by IBP, meaning that backward CROWN is more suited for this kind of verification."
      ],
      "metadata": {
        "id": "yI_3eCIR4mdu"
      }
    },
    {
      "cell_type": "code",
      "source": [
        "output_bounds_crown_jax = jax_verify.backward_crown_bound_propagation(\n",
        "    jax_model, input_bounds)\n",
        "output_bounds_crown_jax = jax_interval_to_np_range(output_bounds_crown_jax)\n",
        "print(f\"output bounds via backward Crown Bound (jax_verify): \\n{output_bounds_crown_jax}\")"
      ],
      "metadata": {
        "id": "GYsSp-XC0gcO",
        "colab": {
          "base_uri": "https://localhost:8080/"
        },
        "outputId": "08671391-94bf-46b8-c9e6-5ab6567d0412"
      },
      "execution_count": 30,
      "outputs": [
        {
          "output_type": "stream",
          "name": "stdout",
          "text": [
            "output bounds via backward Crown Bound (jax_verify): \n",
            "[[10.74421    17.722935  ]\n",
            " [-4.760766   -0.22639704]]\n"
          ]
        }
      ]
    },
    {
      "cell_type": "markdown",
      "source": [
        "**Planet (triangle)**\n",
        "\n",
        "I would like to check if my implementaion of the triangle relaxation is actually correct using `jax_verify`.\n",
        "\n",
        "The structure of the verification comes from https://gitlab.com/neu-autonomy/certifiable-learning/jax_verify/-/blob/master/examples/run_lp_solver.py?ref_type=heads"
      ],
      "metadata": {
        "id": "dgafUZ7ZbdR1"
      }
    },
    {
      "cell_type": "code",
      "source": [
        "## WITH jax_verify library\n",
        "# creating the partial model\n",
        "logits_fn = functools.partial(jax_model)\n",
        "\n",
        "# Using jax_verify IBP method after reshaping the input in the right size\n",
        "init_bound = jax_verify.IntervalBound( np.reshape(input_range[:, 0], (1,4)), np.reshape(input_range[:, 1], (1,4) ))\n",
        "# Always using IBP for the range.\n",
        "boundprop_transform = jax_verify.ibp_transform\n",
        "\n",
        "# This is the real ouput of the model without any perturbation.\n",
        "dummy_output = jax_model(jnp.array(nominal_input))\n",
        "\n",
        "# Run LP solver, selecting the right objective values\n",
        "objective = jnp.where(jnp.arange(dummy_output[0, ...].size) == 0,\n",
        "                      jnp.ones_like(dummy_output[0, ...]),\n",
        "                      jnp.zeros_like(dummy_output[0, ...]))\n",
        "\n",
        "objective_bias = 0\n",
        "# magic happens\n",
        "value, _, status = jax_verify.solve_planet_relaxation(\n",
        "    logits_fn, init_bound, boundprop_transform, objective,\n",
        "    objective_bias, index=0)\n",
        "print('Relaxation LB is:', -value)\n",
        "value, _, status = jax_verify.solve_planet_relaxation(\n",
        "    logits_fn, init_bound, boundprop_transform, -objective,\n",
        "    objective_bias, index=0)\n",
        "print('Relaxation UB is:', -value)\n",
        "# Run LP solver\n",
        "objective = jnp.where(jnp.arange(dummy_output[0, ...].size) == 0,\n",
        "                      jnp.zeros_like(dummy_output[0, ...]),\n",
        "                      jnp.ones_like(dummy_output[0, ...]))\n",
        "objective_bias = 0\n",
        "value, _, status = jax_verify.solve_planet_relaxation(\n",
        "    logits_fn, init_bound, boundprop_transform, objective,\n",
        "    objective_bias, index=0)\n",
        "print('Relaxation LB is:', value)\n",
        "value, _, status = jax_verify.solve_planet_relaxation(\n",
        "    logits_fn, init_bound, boundprop_transform, -objective,\n",
        "    objective_bias, index=0)\n",
        "print('Relaxation UB is:', -value)"
      ],
      "metadata": {
        "colab": {
          "base_uri": "https://localhost:8080/"
        },
        "id": "cWAhwEJPbamY",
        "outputId": "6cbd7c00-3980-4782-89fd-60412efdabbc"
      },
      "execution_count": 31,
      "outputs": [
        {
          "output_type": "stream",
          "name": "stdout",
          "text": [
            "Relaxation LB is: -0.49762148224496316\n",
            "Relaxation UB is: 25.707281262048113\n",
            "Relaxation LB is: -11.84321028280922\n",
            "Relaxation UB is: 5.9868937713701404\n"
          ]
        }
      ]
    },
    {
      "cell_type": "markdown",
      "source": [
        "**Indeed, results are the same.**"
      ],
      "metadata": {
        "id": "dmbsBTJjcwNV"
      }
    },
    {
      "cell_type": "markdown",
      "source": [
        "# Problem 6: Explore the `auto-LiRPA` library for verification [DONE]"
      ],
      "metadata": {
        "id": "y7SInFa3zGmz"
      }
    },
    {
      "cell_type": "markdown",
      "source": [
        "`auto-LiRPA` is a verification library based on PyTorch and one of the main developers was a Northeastern PhD student (Kaidi Xu)!\n",
        "\n",
        "Just like with the previous problem, the next cells show you how to install the package and run IBP, then we ask you to look into their documentation and run backward CROWN on the same problem.\n",
        "\n",
        "**Note:** I suggest doing this part last, because pip may try to downgrade the version of pytorch installed to satisfy requirements. You may also need to restart your kernel after the pip install. If you're on Colab and things seem messed up, you can always do `Runtime > Disconnect and delete runtime` (stronger than restarting the runtime, which doesn't reset to the default set of installed packages)."
      ],
      "metadata": {
        "id": "1Y6E6KwYAoNK"
      }
    },
    {
      "cell_type": "code",
      "source": [
        "!pip install auto-lirpa"
      ],
      "metadata": {
        "id": "87SnKjZJ0i9Z",
        "colab": {
          "base_uri": "https://localhost:8080/",
          "height": 1000
        },
        "outputId": "d60b03de-7a46-4b95-a68a-caf55897ce92"
      },
      "execution_count": null,
      "outputs": [
        {
          "output_type": "stream",
          "name": "stdout",
          "text": [
            "Collecting auto-lirpa\n",
            "  Using cached auto_LiRPA-0.3-py3-none-any.whl (163 kB)\n",
            "Collecting torch<1.13.0,>=1.8.0 (from auto-lirpa)\n",
            "  Downloading torch-1.12.1-cp310-cp310-manylinux1_x86_64.whl (776.3 MB)\n",
            "\u001b[2K     \u001b[90m━━━━━━━━━━━━━━━━━━━━━━━━━━━━━━━━━━━━━\u001b[0m \u001b[32m776.3/776.3 MB\u001b[0m \u001b[31m736.5 kB/s\u001b[0m eta \u001b[36m0:00:00\u001b[0m\n",
            "\u001b[?25hCollecting torchvision<0.14,>=0.9 (from auto-lirpa)\n",
            "  Downloading torchvision-0.13.1-cp310-cp310-manylinux1_x86_64.whl (19.1 MB)\n",
            "\u001b[2K     \u001b[90m━━━━━━━━━━━━━━━━━━━━━━━━━━━━━━━━━━━━━━━━\u001b[0m \u001b[32m19.1/19.1 MB\u001b[0m \u001b[31m39.9 MB/s\u001b[0m eta \u001b[36m0:00:00\u001b[0m\n",
            "\u001b[?25hRequirement already satisfied: numpy>=1.16 in /usr/local/lib/python3.10/dist-packages (from auto-lirpa) (1.23.5)\n",
            "Requirement already satisfied: packaging>=20.0 in /usr/local/lib/python3.10/dist-packages (from auto-lirpa) (23.2)\n",
            "Requirement already satisfied: pytest>=5.0 in /usr/local/lib/python3.10/dist-packages (from auto-lirpa) (7.4.2)\n",
            "Collecting pylint>=2.15 (from auto-lirpa)\n",
            "  Downloading pylint-3.0.1-py3-none-any.whl (510 kB)\n",
            "\u001b[2K     \u001b[90m━━━━━━━━━━━━━━━━━━━━━━━━━━━━━━━━━━━━━━\u001b[0m \u001b[32m510.2/510.2 kB\u001b[0m \u001b[31m32.3 MB/s\u001b[0m eta \u001b[36m0:00:00\u001b[0m\n",
            "\u001b[?25hCollecting pytest-order>=1.0.0 (from auto-lirpa)\n",
            "  Downloading pytest_order-1.1.0-py3-none-any.whl (14 kB)\n",
            "Requirement already satisfied: appdirs>=1.4 in /usr/local/lib/python3.10/dist-packages (from auto-lirpa) (1.4.4)\n",
            "Requirement already satisfied: pyyaml>=5.0 in /usr/local/lib/python3.10/dist-packages (from auto-lirpa) (6.0.1)\n",
            "Collecting ninja>=1.10 (from auto-lirpa)\n",
            "  Downloading ninja-1.11.1-py2.py3-none-manylinux_2_12_x86_64.manylinux2010_x86_64.whl (145 kB)\n",
            "\u001b[2K     \u001b[90m━━━━━━━━━━━━━━━━━━━━━━━━━━━━━━━━━━━━━━\u001b[0m \u001b[32m146.0/146.0 kB\u001b[0m \u001b[31m15.3 MB/s\u001b[0m eta \u001b[36m0:00:00\u001b[0m\n",
            "\u001b[?25hRequirement already satisfied: platformdirs>=2.2.0 in /usr/local/lib/python3.10/dist-packages (from pylint>=2.15->auto-lirpa) (3.11.0)\n",
            "Collecting astroid<=3.1.0-dev0,>=3.0.0 (from pylint>=2.15->auto-lirpa)\n",
            "  Downloading astroid-3.0.0-py3-none-any.whl (275 kB)\n",
            "\u001b[2K     \u001b[90m━━━━━━━━━━━━━━━━━━━━━━━━━━━━━━━━━━━━━━\u001b[0m \u001b[32m275.1/275.1 kB\u001b[0m \u001b[31m25.5 MB/s\u001b[0m eta \u001b[36m0:00:00\u001b[0m\n",
            "\u001b[?25hCollecting isort<6,>=4.2.5 (from pylint>=2.15->auto-lirpa)\n",
            "  Downloading isort-5.12.0-py3-none-any.whl (91 kB)\n",
            "\u001b[2K     \u001b[90m━━━━━━━━━━━━━━━━━━━━━━━━━━━━━━━━━━━━━━━━\u001b[0m \u001b[32m91.2/91.2 kB\u001b[0m \u001b[31m10.7 MB/s\u001b[0m eta \u001b[36m0:00:00\u001b[0m\n",
            "\u001b[?25hCollecting mccabe<0.8,>=0.6 (from pylint>=2.15->auto-lirpa)\n",
            "  Downloading mccabe-0.7.0-py2.py3-none-any.whl (7.3 kB)\n",
            "Collecting tomlkit>=0.10.1 (from pylint>=2.15->auto-lirpa)\n",
            "  Downloading tomlkit-0.12.1-py3-none-any.whl (37 kB)\n",
            "Collecting dill>=0.2 (from pylint>=2.15->auto-lirpa)\n",
            "  Downloading dill-0.3.7-py3-none-any.whl (115 kB)\n",
            "\u001b[2K     \u001b[90m━━━━━━━━━━━━━━━━━━━━━━━━━━━━━━━━━━━━━━\u001b[0m \u001b[32m115.3/115.3 kB\u001b[0m \u001b[31m13.6 MB/s\u001b[0m eta \u001b[36m0:00:00\u001b[0m\n",
            "\u001b[?25hRequirement already satisfied: tomli>=1.1.0 in /usr/local/lib/python3.10/dist-packages (from pylint>=2.15->auto-lirpa) (2.0.1)\n",
            "Requirement already satisfied: iniconfig in /usr/local/lib/python3.10/dist-packages (from pytest>=5.0->auto-lirpa) (2.0.0)\n",
            "Requirement already satisfied: pluggy<2.0,>=0.12 in /usr/local/lib/python3.10/dist-packages (from pytest>=5.0->auto-lirpa) (1.3.0)\n",
            "Requirement already satisfied: exceptiongroup>=1.0.0rc8 in /usr/local/lib/python3.10/dist-packages (from pytest>=5.0->auto-lirpa) (1.1.3)\n",
            "Requirement already satisfied: typing-extensions in /usr/local/lib/python3.10/dist-packages (from torch<1.13.0,>=1.8.0->auto-lirpa) (4.5.0)\n",
            "Requirement already satisfied: requests in /usr/local/lib/python3.10/dist-packages (from torchvision<0.14,>=0.9->auto-lirpa) (2.31.0)\n",
            "Requirement already satisfied: pillow!=8.3.*,>=5.3.0 in /usr/local/lib/python3.10/dist-packages (from torchvision<0.14,>=0.9->auto-lirpa) (9.4.0)\n",
            "Requirement already satisfied: charset-normalizer<4,>=2 in /usr/local/lib/python3.10/dist-packages (from requests->torchvision<0.14,>=0.9->auto-lirpa) (3.3.0)\n",
            "Requirement already satisfied: idna<4,>=2.5 in /usr/local/lib/python3.10/dist-packages (from requests->torchvision<0.14,>=0.9->auto-lirpa) (3.4)\n",
            "Requirement already satisfied: urllib3<3,>=1.21.1 in /usr/local/lib/python3.10/dist-packages (from requests->torchvision<0.14,>=0.9->auto-lirpa) (2.0.6)\n",
            "Requirement already satisfied: certifi>=2017.4.17 in /usr/local/lib/python3.10/dist-packages (from requests->torchvision<0.14,>=0.9->auto-lirpa) (2023.7.22)\n",
            "Installing collected packages: ninja, torch, tomlkit, mccabe, isort, dill, astroid, torchvision, pytest-order, pylint, auto-lirpa\n",
            "  Attempting uninstall: torch\n",
            "    Found existing installation: torch 2.0.1+cu118\n",
            "    Uninstalling torch-2.0.1+cu118:\n",
            "      Successfully uninstalled torch-2.0.1+cu118\n",
            "  Attempting uninstall: torchvision\n",
            "    Found existing installation: torchvision 0.15.2+cu118\n",
            "    Uninstalling torchvision-0.15.2+cu118:\n",
            "      Successfully uninstalled torchvision-0.15.2+cu118\n",
            "\u001b[31mERROR: pip's dependency resolver does not currently take into account all the packages that are installed. This behaviour is the source of the following dependency conflicts.\n",
            "torchaudio 2.0.2+cu118 requires torch==2.0.1, but you have torch 1.12.1 which is incompatible.\n",
            "torchdata 0.6.1 requires torch==2.0.1, but you have torch 1.12.1 which is incompatible.\n",
            "torchtext 0.15.2 requires torch==2.0.1, but you have torch 1.12.1 which is incompatible.\u001b[0m\u001b[31m\n",
            "\u001b[0mSuccessfully installed astroid-3.0.0 auto-lirpa-0.3 dill-0.3.7 isort-5.12.0 mccabe-0.7.0 ninja-1.11.1 pylint-3.0.1 pytest-order-1.1.0 tomlkit-0.12.1 torch-1.12.1 torchvision-0.13.1\n"
          ]
        },
        {
          "output_type": "display_data",
          "data": {
            "application/vnd.colab-display-data+json": {
              "pip_warning": {
                "packages": [
                  "torch"
                ]
              }
            }
          },
          "metadata": {}
        }
      ]
    },
    {
      "cell_type": "markdown",
      "source": [
        "An example of using `auto-LiRPA`'s implementation of IBP on our cartpole control NN:\n",
        "\n",
        "_(I copied all the original code below so that it can be run linearly without going back and forth)_"
      ],
      "metadata": {
        "id": "G0C_PPb96xiy"
      }
    },
    {
      "cell_type": "code",
      "source": [
        "import torch\n",
        "import numpy as np\n",
        "import cvxpy as cp\n",
        "from enum import Enum\n",
        "import matplotlib.pyplot as plt\n",
        "\n",
        "def nnet_to_weights_and_biases(nnet_filename: str) -> tuple[np.ndarray, np.ndarray]:\n",
        "  # load a nnet text file and extract the weights and biases\n",
        "\n",
        "  # converted this code from: https://github.com/sisl/NeuralVerification.jl/blob/957cb32081f37de57d84d7f0813f708288b56271/src/utils/util.jl#L10\n",
        "  with open(nnet_filename, 'r') as f:\n",
        "    line = f.readline()\n",
        "    while \"//\" in line: #skip comments\n",
        "      line = f.readline()\n",
        "    # number of layers\n",
        "    nlayers = int(line.strip().split(\",\")[0])\n",
        "    # read in layer sizes\n",
        "    layer_sizes = [int(x) for x in f.readline().split(\",\")[1:nlayers+1]]\n",
        "    # read past additonal information\n",
        "    for i in range(1, 6):\n",
        "      line = f.readline()\n",
        "    # i=1 corresponds to the input dimension, so it's ignored\n",
        "    Ws = []\n",
        "    bs = []\n",
        "    for dim in layer_sizes:\n",
        "      W = np.vstack([[float(x) for x in f.readline().rstrip(',\\n ').split(\",\")] for i in range(dim)])\n",
        "      b = np.array([float(f.readline().rstrip(',\\n ')) for _ in range(dim)])\n",
        "      Ws.append(W)\n",
        "      bs.append(b)\n",
        "\n",
        "  return Ws, bs\n",
        "\n",
        "def weights_and_biases_to_pytorch(Ws: list[np.ndarray], bs: list[np.ndarray]) -> torch.nn.Sequential:\n",
        "  # given weights and biases, create a torch.nn.Sequential model with relus\n",
        "  # btwn each linear layer (except no activation on final layer)\n",
        "\n",
        "  num_layers = len(Ws)\n",
        "\n",
        "  layers = []\n",
        "  for W, b in zip(Ws, bs):\n",
        "    out_features, in_features = W.shape\n",
        "    layer = torch.nn.Linear(in_features, out_features)\n",
        "    layer.weight = torch.nn.Parameter(torch.Tensor(W))\n",
        "    layer.bias = torch.nn.Parameter(torch.Tensor(b))\n",
        "    layers.append(layer)\n",
        "    layers.append(torch.nn.ReLU())\n",
        "\n",
        "  # don't add ReLU to end of NN\n",
        "  model = torch.nn.Sequential(*layers[:-1])\n",
        "  return model\n",
        "\n",
        "def nnet_to_pytorch(nnet_filename: str) -> torch.nn.Sequential:\n",
        "  # directly convert from nnet text file to pytorch model\n",
        "  Ws, bs = nnet_to_weights_and_biases(nnet_filename)\n",
        "  model = weights_and_biases_to_pytorch(Ws, bs)\n",
        "  return model\n",
        "\n",
        "def model_to_weights_and_biases(model: torch.nn.Sequential) -> tuple[np.ndarray, np.ndarray]:\n",
        "  # extract the weights and biases as numpy arrays from a torch.nn.Sequential model\n",
        "  Ws = []\n",
        "  bs = []\n",
        "  for idx, m in enumerate(model.modules()):\n",
        "    if isinstance(m, torch.nn.Sequential):\n",
        "      continue\n",
        "    elif isinstance(m, torch.nn.ReLU):\n",
        "      continue\n",
        "    elif isinstance(m, torch.nn.Linear):\n",
        "      Ws.append(m.weight.data.numpy())\n",
        "      bs.append(m.bias.data.numpy())\n",
        "    else:\n",
        "      print(\"That layer isn't supported.\")\n",
        "      assert 0\n",
        "  return Ws, bs\n",
        "\n",
        "def nominal_and_epsilon_to_range(nominal: np.ndarray, epsilon: np.ndarray | float) -> np.ndarray:\n",
        "  return np.vstack([nominal-epsilon, nominal+epsilon]).T\n",
        "\n",
        "def range_to_nominal_and_epsilon(input_range: np.ndarray) -> tuple[np.ndarray, np.ndarray]:\n",
        "  nominal_input = (input_range[:, 1] + input_range[:, 0]) / 2.\n",
        "  epsilon = (input_range[:, 1] - input_range[:, 0]) / 2.\n",
        "  return nominal_input, epsilon\n",
        "\n",
        "print(\"Cartpole Controller\")\n",
        "\n",
        "# Load the NNet file and pass a nominal input to get the class logits\n",
        "nnet_filename = \"cartpole_nnet.nnet\"\n",
        "nominal_input = torch.Tensor([[0., 0.1, 0.2, 0.3]]) # these 4 values correspond to the 4 states in cartpole\n",
        "model = nnet_to_pytorch(nnet_filename)\n",
        "\n",
        "epsilon = 0.1 # epsilon can be a scalar or a vec w/ same shape as nominal_input\n",
        "input_range = nominal_and_epsilon_to_range(nominal_input, epsilon)"
      ],
      "metadata": {
        "colab": {
          "base_uri": "https://localhost:8080/"
        },
        "id": "6klmI9tk6z5t",
        "outputId": "a39ea325-81f5-456d-cfae-99582a6a90f1"
      },
      "execution_count": null,
      "outputs": [
        {
          "output_type": "stream",
          "name": "stdout",
          "text": [
            "Cartpole Controller\n"
          ]
        }
      ]
    },
    {
      "cell_type": "code",
      "source": [
        "from auto_LiRPA import BoundedModule, BoundedTensor, PerturbationLpNorm\n",
        "\n",
        "# Wrap the model with auto_LiRPA.\n",
        "model = BoundedModule(model, torch.Tensor(nominal_input))\n",
        "# Define perturbation. Here we add Linf perturbation to input data.\n",
        "ptb = PerturbationLpNorm(norm=np.inf, eps=torch.Tensor([epsilon]))\n",
        "# Make the input a BoundedTensor with the pre-defined perturbation.\n",
        "my_input = BoundedTensor(torch.Tensor(nominal_input), ptb)\n",
        "# Regular forward propagation using BoundedTensor works as usual.\n",
        "prediction = model(my_input)\n",
        "# Compute LiRPA bounds using IBP\n",
        "lb, ub = model.compute_bounds(x=(my_input,), method=\"ibp\")\n",
        "output_range_ibp_autolirpa = np.vstack([lb.detach().numpy(), ub.detach().numpy()]).T\n",
        "print(f\"output bounds via IBP (auto-lirpa): \\n{output_range_ibp_autolirpa}\")"
      ],
      "metadata": {
        "id": "CYx4P1PG0kd5",
        "colab": {
          "base_uri": "https://localhost:8080/"
        },
        "outputId": "d169ac35-240c-4922-cc2c-36c35a517a94"
      },
      "execution_count": null,
      "outputs": [
        {
          "output_type": "stream",
          "name": "stdout",
          "text": [
            "output bounds via IBP (auto-lirpa): \n",
            "[[-25.607302  52.51912 ]\n",
            " [-32.457947  23.750443]]\n"
          ]
        }
      ]
    },
    {
      "cell_type": "markdown",
      "source": [
        "Does that match your implementation of IBP? What about `jax_verify`'s?"
      ],
      "metadata": {
        "id": "K_N0KiGy64dW"
      }
    },
    {
      "cell_type": "markdown",
      "source": [
        "**My `custom IBP implementation`, the versions from `jax_verify` and from `auto-LiRPA` coincide!**"
      ],
      "metadata": {
        "id": "kGiu1tlk8NIk"
      }
    },
    {
      "cell_type": "markdown",
      "source": [
        "Now for your job: compute output bounds using `auto-LiRPA`'s implementation of backward CROWN\n",
        "\n",
        "**Deliverables:**\n",
        "\n",
        "- output bounds using backward CROWN, rather than IBP"
      ],
      "metadata": {
        "id": "ZWHwMApQ1_FN"
      }
    },
    {
      "cell_type": "markdown",
      "source": [
        "According to the documentation, backward CROWN is very simple to calculate importing the specific function.\n",
        "\n",
        "The bounds are much smaller that the one found by IBP, meaning that backward CROWN is more suited for this kind of verification."
      ],
      "metadata": {
        "id": "bpFdmlGvgHnw"
      }
    },
    {
      "cell_type": "code",
      "source": [
        "lb, ub = model.compute_bounds(x=(my_input,), method='CROWN')\n",
        "output_range_crown_autolirpa = np.vstack([lb.detach().numpy(), ub.detach().numpy()]).T\n",
        "print(f\"output bounds via backward CROWN: \\n{output_range_crown_autolirpa}\")"
      ],
      "metadata": {
        "id": "oAosulP31SiA",
        "colab": {
          "base_uri": "https://localhost:8080/"
        },
        "outputId": "224d60fc-ce40-46a8-b9ba-bd22709fca8d"
      },
      "execution_count": null,
      "outputs": [
        {
          "output_type": "stream",
          "name": "stdout",
          "text": [
            "output bounds via backward CROWN: \n",
            "[[10.744209   17.722933  ]\n",
            " [-4.7607675  -0.22639656]]\n"
          ]
        }
      ]
    },
    {
      "cell_type": "markdown",
      "source": [
        "*And, of course, `jax_verify` and `auto-LiRPA` provide the same bounds for backward CROWN.*"
      ],
      "metadata": {
        "id": "hNvvApLHgN5R"
      }
    },
    {
      "cell_type": "markdown",
      "source": [
        "**CONCLUSIONS**\n",
        "\n",
        "To wrap everything up, a comparison of all the methods is shown now."
      ],
      "metadata": {
        "id": "rLpniTh98C6W"
      }
    },
    {
      "cell_type": "code",
      "source": [
        "plot_random_sample(random_sample_final_result, with_value=False, lw=2)\n",
        "plot_rectangle(output_range_ibp, alg='IBP', lw=2)\n",
        "plot_rectangle(output_range_lp_milp, alg=\"MILP\", lw=2)\n",
        "plot_rectangle(output_range_lp_triangle, alg=\"Triangle\", lw=2)\n",
        "plot_rectangle(output_bounds_crown_jax, alg=\"Backward CROWN\", lw=2)\n",
        "plot_pretty_graph(\"Bounds\")"
      ],
      "metadata": {
        "id": "5-PK0yPN8ISn",
        "colab": {
          "base_uri": "https://localhost:8080/",
          "height": 472
        },
        "outputId": "4adcee11-b864-4612-ff59-d7e2254ab752"
      },
      "execution_count": 32,
      "outputs": [
        {
          "output_type": "display_data",
          "data": {
            "text/plain": [
              "<Figure size 640x480 with 1 Axes>"
            ],
            "image/png": "[encoded data removed]"
          },
          "metadata": {}
        }
      ]
    },
    {
      "cell_type": "markdown",
      "source": [
        "All done!"
      ],
      "metadata": {
        "id": "nmKg8pm15U-l"
      }
    }
  ]
}